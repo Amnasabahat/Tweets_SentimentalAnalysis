{
 "cells": [
  {
   "cell_type": "markdown",
   "id": "26af591c",
   "metadata": {
    "papermill": {
     "duration": 0.009272,
     "end_time": "2025-01-12T08:17:37.576143",
     "exception": false,
     "start_time": "2025-01-12T08:17:37.566871",
     "status": "completed"
    },
    "tags": []
   },
   "source": [
    "# 1.0 About the Author\n",
    "I'm Amna Sabahat, a passionate Machine Learning Engineer dedicating to mastering machine learning algorithms. let's grow together!\n",
    "\n",
    "To know more about me, Click here [LinkedIn](http:/linktr.ee/amna_sabahat) \n",
    "\n",
    "Feel free to connect and reach me out for any Collaborations!\n",
    "\n"
   ]
  },
  {
   "cell_type": "markdown",
   "id": "99435e9a",
   "metadata": {
    "papermill": {
     "duration": 0.00822,
     "end_time": "2025-01-12T08:17:37.592958",
     "exception": false,
     "start_time": "2025-01-12T08:17:37.584738",
     "status": "completed"
    },
    "tags": []
   },
   "source": [
    "# 2.0 Project Description\n",
    "## Project title:\n",
    "Cracking Sentimental Analysis of Twitter using CNN\n",
    "\n",
    "## Description:\n",
    "This notebook contains \"Sentimental Analysis of Tweets\" focuses on Classifying the sentiments of Tweets. Leveraging the power of Convolutional Neural Networks, mainly aim to predict whether the tweet expresses is positive or negative sentiment.\n",
    "\n",
    "## Objective:\n",
    "The primary objective of this notebook is to develop an efficient binary classification model that can categorize tweets into positive or negative sentiments. The specific goals include:\n",
    "\n",
    "### Data Preprocessing:\n",
    "Clean and preprocess the raw tweet data, including tokenization, stop word removal, and text normalization etc.\n",
    "\n",
    "###  Feature Engineering: \n",
    "Transform the text data into numerical representations suitable for input into the CNN model.\n",
    "\n",
    "###  Model Building:\n",
    "Construct and train an CNN model optimized for text data to perform the binary classification task.\n",
    "\n",
    "###  Evaluation: \n",
    "Assess the model's performance using appropriate metrics such as accuracy, precision, recall, and F1-score.\n",
    "\n",
    "###  Visualization: \n",
    "Provide clear and insightful visualizations of the results to interpret the model's effectiveness and areas for improvement."
   ]
  },
  {
   "cell_type": "markdown",
   "id": "e8d9982f",
   "metadata": {
    "papermill": {
     "duration": 0.007931,
     "end_time": "2025-01-12T08:17:37.609314",
     "exception": false,
     "start_time": "2025-01-12T08:17:37.601383",
     "status": "completed"
    },
    "tags": []
   },
   "source": [
    "# 3.0 Importing Libraries & Data Cleaning "
   ]
  },
  {
   "cell_type": "code",
   "execution_count": 1,
   "id": "5b837438",
   "metadata": {
    "execution": {
     "iopub.execute_input": "2025-01-12T08:17:37.628115Z",
     "iopub.status.busy": "2025-01-12T08:17:37.627556Z",
     "iopub.status.idle": "2025-01-12T08:17:56.860889Z",
     "shell.execute_reply": "2025-01-12T08:17:56.859657Z"
    },
    "papermill": {
     "duration": 19.246256,
     "end_time": "2025-01-12T08:17:56.863831",
     "exception": false,
     "start_time": "2025-01-12T08:17:37.617575",
     "status": "completed"
    },
    "tags": []
   },
   "outputs": [
    {
     "name": "stdout",
     "output_type": "stream",
     "text": [
      "[nltk_data] Downloading package stopwords to /usr/share/nltk_data...\n",
      "[nltk_data]   Package stopwords is already up-to-date!\n",
      "[nltk_data] Downloading package wordnet to /usr/share/nltk_data...\n",
      "[nltk_data]   Package wordnet is already up-to-date!\n",
      "[nltk_data] Downloading package punkt to /usr/share/nltk_data...\n",
      "[nltk_data]   Package punkt is already up-to-date!\n"
     ]
    }
   ],
   "source": [
    "import pandas as pd\n",
    "import numpy as np \n",
    "import matplotlib.pyplot as plt\n",
    "import seaborn as sns\n",
    "import re \n",
    "import nltk\n",
    "import emoji\n",
    "from nltk.corpus import stopwords\n",
    "nltk.download('stopwords')\n",
    "nltk.download('wordnet')\n",
    "nltk.download('punkt')\n",
    "from nltk.stem import WordNetLemmatizer\n",
    "from tensorflow.keras.preprocessing.text import Tokenizer\n",
    "from tensorflow.keras.preprocessing.sequence import pad_sequences\n",
    "from tensorflow.keras.models import Sequential\n",
    "from tensorflow.keras.layers import Embedding, Conv1D, MaxPooling1D, GlobalMaxPooling1D, Dense, Dropout\n",
    "from sklearn.model_selection import train_test_split\n",
    "from sklearn.metrics import classification_report, accuracy_score\n",
    "from sklearn.metrics import confusion_matrix\n"
   ]
  },
  {
   "cell_type": "markdown",
   "id": "bdf96975",
   "metadata": {
    "papermill": {
     "duration": 0.008084,
     "end_time": "2025-01-12T08:17:56.880851",
     "exception": false,
     "start_time": "2025-01-12T08:17:56.872767",
     "status": "completed"
    },
    "tags": []
   },
   "source": [
    "# 3.1 loading the Dataset "
   ]
  },
  {
   "cell_type": "code",
   "execution_count": 2,
   "id": "c1b03adb",
   "metadata": {
    "execution": {
     "iopub.execute_input": "2025-01-12T08:17:56.900503Z",
     "iopub.status.busy": "2025-01-12T08:17:56.899441Z",
     "iopub.status.idle": "2025-01-12T08:17:56.955843Z",
     "shell.execute_reply": "2025-01-12T08:17:56.954748Z"
    },
    "papermill": {
     "duration": 0.069029,
     "end_time": "2025-01-12T08:17:56.958700",
     "exception": false,
     "start_time": "2025-01-12T08:17:56.889671",
     "status": "completed"
    },
    "tags": []
   },
   "outputs": [],
   "source": [
    "# Load the dataset\n",
    "df = pd.read_csv('/kaggle/input/tweets-sentiments/sentiment_tweets3.csv')"
   ]
  },
  {
   "cell_type": "code",
   "execution_count": 3,
   "id": "4665f9ee",
   "metadata": {
    "execution": {
     "iopub.execute_input": "2025-01-12T08:17:56.979070Z",
     "iopub.status.busy": "2025-01-12T08:17:56.978650Z",
     "iopub.status.idle": "2025-01-12T08:17:57.000313Z",
     "shell.execute_reply": "2025-01-12T08:17:56.998861Z"
    },
    "papermill": {
     "duration": 0.035501,
     "end_time": "2025-01-12T08:17:57.003802",
     "exception": false,
     "start_time": "2025-01-12T08:17:56.968301",
     "status": "completed"
    },
    "tags": []
   },
   "outputs": [
    {
     "data": {
      "text/html": [
       "<div>\n",
       "<style scoped>\n",
       "    .dataframe tbody tr th:only-of-type {\n",
       "        vertical-align: middle;\n",
       "    }\n",
       "\n",
       "    .dataframe tbody tr th {\n",
       "        vertical-align: top;\n",
       "    }\n",
       "\n",
       "    .dataframe thead th {\n",
       "        text-align: right;\n",
       "    }\n",
       "</style>\n",
       "<table border=\"1\" class=\"dataframe\">\n",
       "  <thead>\n",
       "    <tr style=\"text-align: right;\">\n",
       "      <th></th>\n",
       "      <th>Index</th>\n",
       "      <th>message to examine</th>\n",
       "      <th>label (depression result)</th>\n",
       "    </tr>\n",
       "  </thead>\n",
       "  <tbody>\n",
       "    <tr>\n",
       "      <th>0</th>\n",
       "      <td>106</td>\n",
       "      <td>just had a real good moment. i missssssssss hi...</td>\n",
       "      <td>0</td>\n",
       "    </tr>\n",
       "    <tr>\n",
       "      <th>1</th>\n",
       "      <td>217</td>\n",
       "      <td>is reading manga  http://plurk.com/p/mzp1e</td>\n",
       "      <td>0</td>\n",
       "    </tr>\n",
       "    <tr>\n",
       "      <th>2</th>\n",
       "      <td>220</td>\n",
       "      <td>@comeagainjen http://twitpic.com/2y2lx - http:...</td>\n",
       "      <td>0</td>\n",
       "    </tr>\n",
       "    <tr>\n",
       "      <th>3</th>\n",
       "      <td>288</td>\n",
       "      <td>@lapcat Need to send 'em to my accountant tomo...</td>\n",
       "      <td>0</td>\n",
       "    </tr>\n",
       "    <tr>\n",
       "      <th>4</th>\n",
       "      <td>540</td>\n",
       "      <td>ADD ME ON MYSPACE!!!  myspace.com/LookThunder</td>\n",
       "      <td>0</td>\n",
       "    </tr>\n",
       "  </tbody>\n",
       "</table>\n",
       "</div>"
      ],
      "text/plain": [
       "   Index                                 message to examine  \\\n",
       "0    106  just had a real good moment. i missssssssss hi...   \n",
       "1    217         is reading manga  http://plurk.com/p/mzp1e   \n",
       "2    220  @comeagainjen http://twitpic.com/2y2lx - http:...   \n",
       "3    288  @lapcat Need to send 'em to my accountant tomo...   \n",
       "4    540      ADD ME ON MYSPACE!!!  myspace.com/LookThunder   \n",
       "\n",
       "   label (depression result)  \n",
       "0                          0  \n",
       "1                          0  \n",
       "2                          0  \n",
       "3                          0  \n",
       "4                          0  "
      ]
     },
     "execution_count": 3,
     "metadata": {},
     "output_type": "execute_result"
    }
   ],
   "source": [
    "# Display the first 5 rows\n",
    "df.head()"
   ]
  },
  {
   "cell_type": "markdown",
   "id": "ad0f4bed",
   "metadata": {
    "papermill": {
     "duration": 0.008832,
     "end_time": "2025-01-12T08:17:57.022330",
     "exception": false,
     "start_time": "2025-01-12T08:17:57.013498",
     "status": "completed"
    },
    "tags": []
   },
   "source": [
    "# 4.0 Data Preprocessing Steps:"
   ]
  },
  {
   "cell_type": "markdown",
   "id": "d95ce0e2",
   "metadata": {
    "papermill": {
     "duration": 0.008791,
     "end_time": "2025-01-12T08:17:57.040163",
     "exception": false,
     "start_time": "2025-01-12T08:17:57.031372",
     "status": "completed"
    },
    "tags": []
   },
   "source": []
  },
  {
   "cell_type": "code",
   "execution_count": 4,
   "id": "ad332c99",
   "metadata": {
    "execution": {
     "iopub.execute_input": "2025-01-12T08:17:57.060983Z",
     "iopub.status.busy": "2025-01-12T08:17:57.060598Z",
     "iopub.status.idle": "2025-01-12T08:17:57.068423Z",
     "shell.execute_reply": "2025-01-12T08:17:57.067111Z"
    },
    "papermill": {
     "duration": 0.020686,
     "end_time": "2025-01-12T08:17:57.070623",
     "exception": false,
     "start_time": "2025-01-12T08:17:57.049937",
     "status": "completed"
    },
    "tags": []
   },
   "outputs": [
    {
     "data": {
      "text/plain": [
       "(10314, 3)"
      ]
     },
     "execution_count": 4,
     "metadata": {},
     "output_type": "execute_result"
    }
   ],
   "source": [
    "df.shape"
   ]
  },
  {
   "cell_type": "markdown",
   "id": "8f06afb4",
   "metadata": {
    "papermill": {
     "duration": 0.0084,
     "end_time": "2025-01-12T08:17:57.088329",
     "exception": false,
     "start_time": "2025-01-12T08:17:57.079929",
     "status": "completed"
    },
    "tags": []
   },
   "source": [
    "# 4.1 Checking Null Values"
   ]
  },
  {
   "cell_type": "code",
   "execution_count": 5,
   "id": "e7940573",
   "metadata": {
    "execution": {
     "iopub.execute_input": "2025-01-12T08:17:57.107466Z",
     "iopub.status.busy": "2025-01-12T08:17:57.107044Z",
     "iopub.status.idle": "2025-01-12T08:17:57.123633Z",
     "shell.execute_reply": "2025-01-12T08:17:57.121914Z"
    },
    "papermill": {
     "duration": 0.029358,
     "end_time": "2025-01-12T08:17:57.126433",
     "exception": false,
     "start_time": "2025-01-12T08:17:57.097075",
     "status": "completed"
    },
    "tags": []
   },
   "outputs": [
    {
     "name": "stdout",
     "output_type": "stream",
     "text": [
      "Index                        0\n",
      "message to examine           0\n",
      "label (depression result)    0\n",
      "dtype: int64\n"
     ]
    },
    {
     "data": {
      "text/html": [
       "<div>\n",
       "<style scoped>\n",
       "    .dataframe tbody tr th:only-of-type {\n",
       "        vertical-align: middle;\n",
       "    }\n",
       "\n",
       "    .dataframe tbody tr th {\n",
       "        vertical-align: top;\n",
       "    }\n",
       "\n",
       "    .dataframe thead th {\n",
       "        text-align: right;\n",
       "    }\n",
       "</style>\n",
       "<table border=\"1\" class=\"dataframe\">\n",
       "  <thead>\n",
       "    <tr style=\"text-align: right;\">\n",
       "      <th></th>\n",
       "      <th>Index</th>\n",
       "      <th>message to examine</th>\n",
       "      <th>label (depression result)</th>\n",
       "    </tr>\n",
       "  </thead>\n",
       "  <tbody>\n",
       "    <tr>\n",
       "      <th>0</th>\n",
       "      <td>106</td>\n",
       "      <td>just had a real good moment. i missssssssss hi...</td>\n",
       "      <td>0</td>\n",
       "    </tr>\n",
       "    <tr>\n",
       "      <th>1</th>\n",
       "      <td>217</td>\n",
       "      <td>is reading manga  http://plurk.com/p/mzp1e</td>\n",
       "      <td>0</td>\n",
       "    </tr>\n",
       "    <tr>\n",
       "      <th>2</th>\n",
       "      <td>220</td>\n",
       "      <td>@comeagainjen http://twitpic.com/2y2lx - http:...</td>\n",
       "      <td>0</td>\n",
       "    </tr>\n",
       "    <tr>\n",
       "      <th>3</th>\n",
       "      <td>288</td>\n",
       "      <td>@lapcat Need to send 'em to my accountant tomo...</td>\n",
       "      <td>0</td>\n",
       "    </tr>\n",
       "    <tr>\n",
       "      <th>4</th>\n",
       "      <td>540</td>\n",
       "      <td>ADD ME ON MYSPACE!!!  myspace.com/LookThunder</td>\n",
       "      <td>0</td>\n",
       "    </tr>\n",
       "  </tbody>\n",
       "</table>\n",
       "</div>"
      ],
      "text/plain": [
       "   Index                                 message to examine  \\\n",
       "0    106  just had a real good moment. i missssssssss hi...   \n",
       "1    217         is reading manga  http://plurk.com/p/mzp1e   \n",
       "2    220  @comeagainjen http://twitpic.com/2y2lx - http:...   \n",
       "3    288  @lapcat Need to send 'em to my accountant tomo...   \n",
       "4    540      ADD ME ON MYSPACE!!!  myspace.com/LookThunder   \n",
       "\n",
       "   label (depression result)  \n",
       "0                          0  \n",
       "1                          0  \n",
       "2                          0  \n",
       "3                          0  \n",
       "4                          0  "
      ]
     },
     "execution_count": 5,
     "metadata": {},
     "output_type": "execute_result"
    }
   ],
   "source": [
    "print(df.isnull().sum())\n",
    "df.head()"
   ]
  },
  {
   "cell_type": "code",
   "execution_count": 6,
   "id": "430403c9",
   "metadata": {
    "execution": {
     "iopub.execute_input": "2025-01-12T08:17:57.146721Z",
     "iopub.status.busy": "2025-01-12T08:17:57.146318Z",
     "iopub.status.idle": "2025-01-12T08:17:57.158028Z",
     "shell.execute_reply": "2025-01-12T08:17:57.156543Z"
    },
    "papermill": {
     "duration": 0.025024,
     "end_time": "2025-01-12T08:17:57.160796",
     "exception": false,
     "start_time": "2025-01-12T08:17:57.135772",
     "status": "completed"
    },
    "tags": []
   },
   "outputs": [
    {
     "data": {
      "text/html": [
       "<div>\n",
       "<style scoped>\n",
       "    .dataframe tbody tr th:only-of-type {\n",
       "        vertical-align: middle;\n",
       "    }\n",
       "\n",
       "    .dataframe tbody tr th {\n",
       "        vertical-align: top;\n",
       "    }\n",
       "\n",
       "    .dataframe thead th {\n",
       "        text-align: right;\n",
       "    }\n",
       "</style>\n",
       "<table border=\"1\" class=\"dataframe\">\n",
       "  <thead>\n",
       "    <tr style=\"text-align: right;\">\n",
       "      <th></th>\n",
       "      <th>Index</th>\n",
       "      <th>sentiments</th>\n",
       "      <th>label</th>\n",
       "    </tr>\n",
       "  </thead>\n",
       "  <tbody>\n",
       "    <tr>\n",
       "      <th>0</th>\n",
       "      <td>106</td>\n",
       "      <td>just had a real good moment. i missssssssss hi...</td>\n",
       "      <td>0</td>\n",
       "    </tr>\n",
       "    <tr>\n",
       "      <th>1</th>\n",
       "      <td>217</td>\n",
       "      <td>is reading manga  http://plurk.com/p/mzp1e</td>\n",
       "      <td>0</td>\n",
       "    </tr>\n",
       "    <tr>\n",
       "      <th>2</th>\n",
       "      <td>220</td>\n",
       "      <td>@comeagainjen http://twitpic.com/2y2lx - http:...</td>\n",
       "      <td>0</td>\n",
       "    </tr>\n",
       "    <tr>\n",
       "      <th>3</th>\n",
       "      <td>288</td>\n",
       "      <td>@lapcat Need to send 'em to my accountant tomo...</td>\n",
       "      <td>0</td>\n",
       "    </tr>\n",
       "    <tr>\n",
       "      <th>4</th>\n",
       "      <td>540</td>\n",
       "      <td>ADD ME ON MYSPACE!!!  myspace.com/LookThunder</td>\n",
       "      <td>0</td>\n",
       "    </tr>\n",
       "  </tbody>\n",
       "</table>\n",
       "</div>"
      ],
      "text/plain": [
       "   Index                                         sentiments  label\n",
       "0    106  just had a real good moment. i missssssssss hi...      0\n",
       "1    217         is reading manga  http://plurk.com/p/mzp1e      0\n",
       "2    220  @comeagainjen http://twitpic.com/2y2lx - http:...      0\n",
       "3    288  @lapcat Need to send 'em to my accountant tomo...      0\n",
       "4    540      ADD ME ON MYSPACE!!!  myspace.com/LookThunder      0"
      ]
     },
     "execution_count": 6,
     "metadata": {},
     "output_type": "execute_result"
    }
   ],
   "source": [
    "df.columns = ['Index','sentiments', 'label']\n",
    "df.head()"
   ]
  },
  {
   "cell_type": "markdown",
   "id": "d09813fe",
   "metadata": {
    "papermill": {
     "duration": 0.009296,
     "end_time": "2025-01-12T08:17:57.179703",
     "exception": false,
     "start_time": "2025-01-12T08:17:57.170407",
     "status": "completed"
    },
    "tags": []
   },
   "source": [
    "# 4.2 Lowercase the Text"
   ]
  },
  {
   "cell_type": "code",
   "execution_count": 7,
   "id": "ff4063dc",
   "metadata": {
    "execution": {
     "iopub.execute_input": "2025-01-12T08:17:57.200525Z",
     "iopub.status.busy": "2025-01-12T08:17:57.200044Z",
     "iopub.status.idle": "2025-01-12T08:17:57.223192Z",
     "shell.execute_reply": "2025-01-12T08:17:57.222084Z"
    },
    "papermill": {
     "duration": 0.037165,
     "end_time": "2025-01-12T08:17:57.226329",
     "exception": false,
     "start_time": "2025-01-12T08:17:57.189164",
     "status": "completed"
    },
    "tags": []
   },
   "outputs": [
    {
     "data": {
      "text/html": [
       "<div>\n",
       "<style scoped>\n",
       "    .dataframe tbody tr th:only-of-type {\n",
       "        vertical-align: middle;\n",
       "    }\n",
       "\n",
       "    .dataframe tbody tr th {\n",
       "        vertical-align: top;\n",
       "    }\n",
       "\n",
       "    .dataframe thead th {\n",
       "        text-align: right;\n",
       "    }\n",
       "</style>\n",
       "<table border=\"1\" class=\"dataframe\">\n",
       "  <thead>\n",
       "    <tr style=\"text-align: right;\">\n",
       "      <th></th>\n",
       "      <th>Index</th>\n",
       "      <th>sentiments</th>\n",
       "      <th>label</th>\n",
       "    </tr>\n",
       "  </thead>\n",
       "  <tbody>\n",
       "    <tr>\n",
       "      <th>0</th>\n",
       "      <td>106</td>\n",
       "      <td>just had a real good moment. i missssssssss hi...</td>\n",
       "      <td>0</td>\n",
       "    </tr>\n",
       "    <tr>\n",
       "      <th>1</th>\n",
       "      <td>217</td>\n",
       "      <td>is reading manga  http://plurk.com/p/mzp1e</td>\n",
       "      <td>0</td>\n",
       "    </tr>\n",
       "    <tr>\n",
       "      <th>2</th>\n",
       "      <td>220</td>\n",
       "      <td>@comeagainjen http://twitpic.com/2y2lx - http:...</td>\n",
       "      <td>0</td>\n",
       "    </tr>\n",
       "    <tr>\n",
       "      <th>3</th>\n",
       "      <td>288</td>\n",
       "      <td>@lapcat need to send 'em to my accountant tomo...</td>\n",
       "      <td>0</td>\n",
       "    </tr>\n",
       "    <tr>\n",
       "      <th>4</th>\n",
       "      <td>540</td>\n",
       "      <td>add me on myspace!!!  myspace.com/lookthunder</td>\n",
       "      <td>0</td>\n",
       "    </tr>\n",
       "  </tbody>\n",
       "</table>\n",
       "</div>"
      ],
      "text/plain": [
       "   Index                                         sentiments  label\n",
       "0    106  just had a real good moment. i missssssssss hi...      0\n",
       "1    217         is reading manga  http://plurk.com/p/mzp1e      0\n",
       "2    220  @comeagainjen http://twitpic.com/2y2lx - http:...      0\n",
       "3    288  @lapcat need to send 'em to my accountant tomo...      0\n",
       "4    540      add me on myspace!!!  myspace.com/lookthunder      0"
      ]
     },
     "execution_count": 7,
     "metadata": {},
     "output_type": "execute_result"
    }
   ],
   "source": [
    "df['sentiments'] = df['sentiments'].str.lower()\n",
    "df.head()"
   ]
  },
  {
   "cell_type": "markdown",
   "id": "3df93b20",
   "metadata": {
    "papermill": {
     "duration": 0.011843,
     "end_time": "2025-01-12T08:17:57.248722",
     "exception": false,
     "start_time": "2025-01-12T08:17:57.236879",
     "status": "completed"
    },
    "tags": []
   },
   "source": [
    "# 4.3 Remove HTML Tags"
   ]
  },
  {
   "cell_type": "code",
   "execution_count": 8,
   "id": "1e17f306",
   "metadata": {
    "execution": {
     "iopub.execute_input": "2025-01-12T08:17:57.270078Z",
     "iopub.status.busy": "2025-01-12T08:17:57.269080Z",
     "iopub.status.idle": "2025-01-12T08:17:57.293791Z",
     "shell.execute_reply": "2025-01-12T08:17:57.291225Z"
    },
    "papermill": {
     "duration": 0.039434,
     "end_time": "2025-01-12T08:17:57.297855",
     "exception": false,
     "start_time": "2025-01-12T08:17:57.258421",
     "status": "completed"
    },
    "tags": []
   },
   "outputs": [
    {
     "data": {
      "text/html": [
       "<div>\n",
       "<style scoped>\n",
       "    .dataframe tbody tr th:only-of-type {\n",
       "        vertical-align: middle;\n",
       "    }\n",
       "\n",
       "    .dataframe tbody tr th {\n",
       "        vertical-align: top;\n",
       "    }\n",
       "\n",
       "    .dataframe thead th {\n",
       "        text-align: right;\n",
       "    }\n",
       "</style>\n",
       "<table border=\"1\" class=\"dataframe\">\n",
       "  <thead>\n",
       "    <tr style=\"text-align: right;\">\n",
       "      <th></th>\n",
       "      <th>Index</th>\n",
       "      <th>sentiments</th>\n",
       "      <th>label</th>\n",
       "    </tr>\n",
       "  </thead>\n",
       "  <tbody>\n",
       "    <tr>\n",
       "      <th>0</th>\n",
       "      <td>106</td>\n",
       "      <td>just had a real good moment. i missssssssss hi...</td>\n",
       "      <td>0</td>\n",
       "    </tr>\n",
       "    <tr>\n",
       "      <th>1</th>\n",
       "      <td>217</td>\n",
       "      <td>is reading manga  http://plurk.com/p/mzp1e</td>\n",
       "      <td>0</td>\n",
       "    </tr>\n",
       "    <tr>\n",
       "      <th>2</th>\n",
       "      <td>220</td>\n",
       "      <td>@comeagainjen http://twitpic.com/2y2lx - http:...</td>\n",
       "      <td>0</td>\n",
       "    </tr>\n",
       "    <tr>\n",
       "      <th>3</th>\n",
       "      <td>288</td>\n",
       "      <td>@lapcat need to send 'em to my accountant tomo...</td>\n",
       "      <td>0</td>\n",
       "    </tr>\n",
       "    <tr>\n",
       "      <th>4</th>\n",
       "      <td>540</td>\n",
       "      <td>add me on myspace!!!  myspace.com/lookthunder</td>\n",
       "      <td>0</td>\n",
       "    </tr>\n",
       "  </tbody>\n",
       "</table>\n",
       "</div>"
      ],
      "text/plain": [
       "   Index                                         sentiments  label\n",
       "0    106  just had a real good moment. i missssssssss hi...      0\n",
       "1    217         is reading manga  http://plurk.com/p/mzp1e      0\n",
       "2    220  @comeagainjen http://twitpic.com/2y2lx - http:...      0\n",
       "3    288  @lapcat need to send 'em to my accountant tomo...      0\n",
       "4    540      add me on myspace!!!  myspace.com/lookthunder      0"
      ]
     },
     "execution_count": 8,
     "metadata": {},
     "output_type": "execute_result"
    }
   ],
   "source": [
    "def remove_html(tweet):\n",
    "    return re.sub(r'<.*?>', '', tweet)  # Remove HTML tags\n",
    "df ['sentiments'] = df['sentiments'].apply(remove_html)\n",
    "\n",
    "df.head()"
   ]
  },
  {
   "cell_type": "markdown",
   "id": "f2a14b05",
   "metadata": {
    "papermill": {
     "duration": 0.009113,
     "end_time": "2025-01-12T08:17:57.321840",
     "exception": false,
     "start_time": "2025-01-12T08:17:57.312727",
     "status": "completed"
    },
    "tags": []
   },
   "source": [
    "# 4.4 Remove URLs"
   ]
  },
  {
   "cell_type": "code",
   "execution_count": 9,
   "id": "15698107",
   "metadata": {
    "execution": {
     "iopub.execute_input": "2025-01-12T08:17:57.343084Z",
     "iopub.status.busy": "2025-01-12T08:17:57.342576Z",
     "iopub.status.idle": "2025-01-12T08:17:57.381484Z",
     "shell.execute_reply": "2025-01-12T08:17:57.380281Z"
    },
    "papermill": {
     "duration": 0.052418,
     "end_time": "2025-01-12T08:17:57.383893",
     "exception": false,
     "start_time": "2025-01-12T08:17:57.331475",
     "status": "completed"
    },
    "tags": []
   },
   "outputs": [
    {
     "data": {
      "text/html": [
       "<div>\n",
       "<style scoped>\n",
       "    .dataframe tbody tr th:only-of-type {\n",
       "        vertical-align: middle;\n",
       "    }\n",
       "\n",
       "    .dataframe tbody tr th {\n",
       "        vertical-align: top;\n",
       "    }\n",
       "\n",
       "    .dataframe thead th {\n",
       "        text-align: right;\n",
       "    }\n",
       "</style>\n",
       "<table border=\"1\" class=\"dataframe\">\n",
       "  <thead>\n",
       "    <tr style=\"text-align: right;\">\n",
       "      <th></th>\n",
       "      <th>Index</th>\n",
       "      <th>sentiments</th>\n",
       "      <th>label</th>\n",
       "    </tr>\n",
       "  </thead>\n",
       "  <tbody>\n",
       "    <tr>\n",
       "      <th>0</th>\n",
       "      <td>106</td>\n",
       "      <td>just had a real good moment. i missssssssss hi...</td>\n",
       "      <td>0</td>\n",
       "    </tr>\n",
       "    <tr>\n",
       "      <th>1</th>\n",
       "      <td>217</td>\n",
       "      <td>is reading manga</td>\n",
       "      <td>0</td>\n",
       "    </tr>\n",
       "    <tr>\n",
       "      <th>2</th>\n",
       "      <td>220</td>\n",
       "      <td>@comeagainjen  -</td>\n",
       "      <td>0</td>\n",
       "    </tr>\n",
       "    <tr>\n",
       "      <th>3</th>\n",
       "      <td>288</td>\n",
       "      <td>@lapcat need to send 'em to my accountant tomo...</td>\n",
       "      <td>0</td>\n",
       "    </tr>\n",
       "    <tr>\n",
       "      <th>4</th>\n",
       "      <td>540</td>\n",
       "      <td>add me on myspace!!!  myspace.com/lookthunder</td>\n",
       "      <td>0</td>\n",
       "    </tr>\n",
       "  </tbody>\n",
       "</table>\n",
       "</div>"
      ],
      "text/plain": [
       "   Index                                         sentiments  label\n",
       "0    106  just had a real good moment. i missssssssss hi...      0\n",
       "1    217                                 is reading manga        0\n",
       "2    220                                 @comeagainjen  -        0\n",
       "3    288  @lapcat need to send 'em to my accountant tomo...      0\n",
       "4    540      add me on myspace!!!  myspace.com/lookthunder      0"
      ]
     },
     "execution_count": 9,
     "metadata": {},
     "output_type": "execute_result"
    }
   ],
   "source": [
    "def remove_urls(tweet):\n",
    "    return re.sub(r'http\\S+|www\\S+|https\\S+', '', tweet) # remove urls\n",
    "df ['sentiments'] = df['sentiments'].apply(remove_urls)\n",
    "\n",
    "df.head()"
   ]
  },
  {
   "cell_type": "markdown",
   "id": "19d3d109",
   "metadata": {
    "papermill": {
     "duration": 0.009492,
     "end_time": "2025-01-12T08:17:57.403618",
     "exception": false,
     "start_time": "2025-01-12T08:17:57.394126",
     "status": "completed"
    },
    "tags": []
   },
   "source": [
    "# 4.5 Remove Punctuations"
   ]
  },
  {
   "cell_type": "code",
   "execution_count": 10,
   "id": "89bfa49a",
   "metadata": {
    "execution": {
     "iopub.execute_input": "2025-01-12T08:17:57.431762Z",
     "iopub.status.busy": "2025-01-12T08:17:57.431248Z",
     "iopub.status.idle": "2025-01-12T08:17:57.489365Z",
     "shell.execute_reply": "2025-01-12T08:17:57.488305Z"
    },
    "papermill": {
     "duration": 0.076773,
     "end_time": "2025-01-12T08:17:57.491999",
     "exception": false,
     "start_time": "2025-01-12T08:17:57.415226",
     "status": "completed"
    },
    "tags": []
   },
   "outputs": [
    {
     "data": {
      "text/html": [
       "<div>\n",
       "<style scoped>\n",
       "    .dataframe tbody tr th:only-of-type {\n",
       "        vertical-align: middle;\n",
       "    }\n",
       "\n",
       "    .dataframe tbody tr th {\n",
       "        vertical-align: top;\n",
       "    }\n",
       "\n",
       "    .dataframe thead th {\n",
       "        text-align: right;\n",
       "    }\n",
       "</style>\n",
       "<table border=\"1\" class=\"dataframe\">\n",
       "  <thead>\n",
       "    <tr style=\"text-align: right;\">\n",
       "      <th></th>\n",
       "      <th>Index</th>\n",
       "      <th>sentiments</th>\n",
       "      <th>label</th>\n",
       "    </tr>\n",
       "  </thead>\n",
       "  <tbody>\n",
       "    <tr>\n",
       "      <th>0</th>\n",
       "      <td>106</td>\n",
       "      <td>just had a real good moment i missssssssss him...</td>\n",
       "      <td>0</td>\n",
       "    </tr>\n",
       "    <tr>\n",
       "      <th>1</th>\n",
       "      <td>217</td>\n",
       "      <td>is reading manga</td>\n",
       "      <td>0</td>\n",
       "    </tr>\n",
       "    <tr>\n",
       "      <th>2</th>\n",
       "      <td>220</td>\n",
       "      <td>comeagainjen</td>\n",
       "      <td>0</td>\n",
       "    </tr>\n",
       "    <tr>\n",
       "      <th>3</th>\n",
       "      <td>288</td>\n",
       "      <td>lapcat need to send em to my accountant tomorr...</td>\n",
       "      <td>0</td>\n",
       "    </tr>\n",
       "    <tr>\n",
       "      <th>4</th>\n",
       "      <td>540</td>\n",
       "      <td>add me on myspace  myspacecomlookthunder</td>\n",
       "      <td>0</td>\n",
       "    </tr>\n",
       "  </tbody>\n",
       "</table>\n",
       "</div>"
      ],
      "text/plain": [
       "   Index                                         sentiments  label\n",
       "0    106  just had a real good moment i missssssssss him...      0\n",
       "1    217                                 is reading manga        0\n",
       "2    220                                   comeagainjen          0\n",
       "3    288  lapcat need to send em to my accountant tomorr...      0\n",
       "4    540           add me on myspace  myspacecomlookthunder      0"
      ]
     },
     "execution_count": 10,
     "metadata": {},
     "output_type": "execute_result"
    }
   ],
   "source": [
    "def remove_punctuation(tweet):\n",
    "    return re.sub(r'[^\\w\\s]', '', tweet)  # Remove punctuation\n",
    "df ['sentiments'] = df['sentiments'].apply(remove_punctuation)\n",
    "\n",
    "df.head()"
   ]
  },
  {
   "cell_type": "markdown",
   "id": "f68fc189",
   "metadata": {
    "papermill": {
     "duration": 0.009636,
     "end_time": "2025-01-12T08:17:57.517321",
     "exception": false,
     "start_time": "2025-01-12T08:17:57.507685",
     "status": "completed"
    },
    "tags": []
   },
   "source": [
    "# 4.6 Handling ChatWords "
   ]
  },
  {
   "cell_type": "code",
   "execution_count": 11,
   "id": "afe346a5",
   "metadata": {
    "execution": {
     "iopub.execute_input": "2025-01-12T08:17:57.539428Z",
     "iopub.status.busy": "2025-01-12T08:17:57.538868Z",
     "iopub.status.idle": "2025-01-12T08:17:57.606067Z",
     "shell.execute_reply": "2025-01-12T08:17:57.604993Z"
    },
    "papermill": {
     "duration": 0.081836,
     "end_time": "2025-01-12T08:17:57.609125",
     "exception": false,
     "start_time": "2025-01-12T08:17:57.527289",
     "status": "completed"
    },
    "tags": []
   },
   "outputs": [
    {
     "data": {
      "text/html": [
       "<div>\n",
       "<style scoped>\n",
       "    .dataframe tbody tr th:only-of-type {\n",
       "        vertical-align: middle;\n",
       "    }\n",
       "\n",
       "    .dataframe tbody tr th {\n",
       "        vertical-align: top;\n",
       "    }\n",
       "\n",
       "    .dataframe thead th {\n",
       "        text-align: right;\n",
       "    }\n",
       "</style>\n",
       "<table border=\"1\" class=\"dataframe\">\n",
       "  <thead>\n",
       "    <tr style=\"text-align: right;\">\n",
       "      <th></th>\n",
       "      <th>Index</th>\n",
       "      <th>sentiments</th>\n",
       "      <th>label</th>\n",
       "    </tr>\n",
       "  </thead>\n",
       "  <tbody>\n",
       "    <tr>\n",
       "      <th>0</th>\n",
       "      <td>106</td>\n",
       "      <td>just had a real good moment i missssssssss him...</td>\n",
       "      <td>0</td>\n",
       "    </tr>\n",
       "    <tr>\n",
       "      <th>1</th>\n",
       "      <td>217</td>\n",
       "      <td>is reading manga</td>\n",
       "      <td>0</td>\n",
       "    </tr>\n",
       "    <tr>\n",
       "      <th>2</th>\n",
       "      <td>220</td>\n",
       "      <td>comeagainjen</td>\n",
       "      <td>0</td>\n",
       "    </tr>\n",
       "    <tr>\n",
       "      <th>3</th>\n",
       "      <td>288</td>\n",
       "      <td>lapcat need to send em to my accountant tomorr...</td>\n",
       "      <td>0</td>\n",
       "    </tr>\n",
       "    <tr>\n",
       "      <th>4</th>\n",
       "      <td>540</td>\n",
       "      <td>add me on myspace myspacecomlookthunder</td>\n",
       "      <td>0</td>\n",
       "    </tr>\n",
       "  </tbody>\n",
       "</table>\n",
       "</div>"
      ],
      "text/plain": [
       "   Index                                         sentiments  label\n",
       "0    106  just had a real good moment i missssssssss him...      0\n",
       "1    217                                   is reading manga      0\n",
       "2    220                                       comeagainjen      0\n",
       "3    288  lapcat need to send em to my accountant tomorr...      0\n",
       "4    540            add me on myspace myspacecomlookthunder      0"
      ]
     },
     "execution_count": 11,
     "metadata": {},
     "output_type": "execute_result"
    }
   ],
   "source": [
    "chat_words = {\n",
    "    \"AFAIK\": \"As Far As I Know\",\n",
    "    \"AFK\": \"Away From Keyboard\",\n",
    "    \"ASAP\": \"As Soon As Possible\",\n",
    "    \"ATK\": \"At The Keyboard\",\n",
    "    \"ATM\": \"At The Moment\",\n",
    "    \"A3\": \"Anytime, Anywhere, Anyplace\",\n",
    "    \"BAK\": \"Back At Keyboard\",\n",
    "    \"BBL\": \"Be Back Later\",\n",
    "    \"BBS\": \"Be Back Soon\",\n",
    "    \"BFN\": \"Bye For Now\",\n",
    "    \"B4N\": \"Bye For Now\",\n",
    "    \"BRB\": \"Be Right Back\",\n",
    "    \"BRT\": \"Be Right There\",\n",
    "    \"BTW\": \"By The Way\",\n",
    "    \"B4\": \"Before\",\n",
    "    \"B4N\": \"Bye For Now\",\n",
    "    \"CU\": \"See You\",\n",
    "    \"CUL8R\": \"See You Later\",\n",
    "    \"CYA\": \"See You\",\n",
    "    \"FAQ\": \"Frequently Asked Questions\",\n",
    "    \"FC\": \"Fingers Crossed\",\n",
    "    \"FWIW\": \"For What It's Worth\",\n",
    "    \"FYI\": \"For Your Information\",\n",
    "    \"GAL\": \"Get A Life\",\n",
    "    \"GG\": \"Good Game\",\n",
    "    \"GN\": \"Good Night\",\n",
    "    \"GMTA\": \"Great Minds Think Alike\",\n",
    "    \"GR8\": \"Great!\",\n",
    "    \"G9\": \"Genius\",\n",
    "    \"IC\": \"I See\",\n",
    "    \"ICQ\": \"I Seek you (also a chat program)\",\n",
    "    \"ILU\": \"ILU: I Love You\",\n",
    "    \"IMHO\": \"In My Honest/Humble Opinion\",\n",
    "    \"IMO\": \"In My Opinion\",\n",
    "    \"IOW\": \"In Other Words\",\n",
    "    \"IRL\": \"In Real Life\",\n",
    "    \"KISS\": \"Keep It Simple, Stupid\",\n",
    "    \"LDR\": \"Long Distance Relationship\",\n",
    "    \"LMAO\": \"Laugh My A.. Off\",\n",
    "    \"LOL\": \"Laughing Out Loud\",\n",
    "    \"LTNS\": \"Long Time No See\",\n",
    "    \"L8R\": \"Later\",\n",
    "    \"MTE\": \"My Thoughts Exactly\",\n",
    "    \"M8\": \"Mate\",\n",
    "    \"NRN\": \"No Reply Necessary\",\n",
    "    \"OIC\": \"Oh I See\",\n",
    "    \"PITA\": \"Pain In The A..\",\n",
    "    \"PRT\": \"Party\",\n",
    "    \"PRW\": \"Parents Are Watching\",\n",
    "    \"QPSA?\": \"Que Pasa?\",\n",
    "    \"ROFL\": \"Rolling On The Floor Laughing\",\n",
    "    \"ROFLOL\": \"Rolling On The Floor Laughing Out Loud\",\n",
    "    \"ROTFLMAO\": \"Rolling On The Floor Laughing My A.. Off\",\n",
    "    \"SK8\": \"Skate\",\n",
    "    \"STATS\": \"Your sex and age\",\n",
    "    \"ASL\": \"Age, Sex, Location\",\n",
    "    \"THX\": \"Thank You\",\n",
    "    \"TTFN\": \"Ta-Ta For Now!\",\n",
    "    \"TTYL\": \"Talk To You Later\",\n",
    "     \"U\": \"You\",\n",
    "    \"U2\": \"You Too\",\n",
    "    \"U4E\": \"Yours For Ever\",\n",
    "    \"WB\": \"Welcome Back\",\n",
    "    \"WTF\": \"What The F...\",\n",
    "    \"WTG\": \"Way To Go!\",\n",
    "    \"WUF\": \"Where Are You From?\",\n",
    "    \"W8\": \"Wait...\",\n",
    "    \"7K\": \"Sick:-D Laugher\",\n",
    "    \"TFW\": \"That feeling when\",\n",
    "    \"MFW\": \"My face when\",\n",
    "    \"MRW\": \"My reaction when\",\n",
    "    \"IFYP\": \"I feel your pain\",\n",
    "    \"TNTL\": \"Trying not to laugh\",\n",
    "    \"JK\": \"Just kidding\",\n",
    "    \"IDC\": \"I don't care\",\n",
    "    \"ILY\": \"I love you\",\n",
    "     \"IMU\": \"I miss you\",\n",
    "    \"ADIH\": \"Another day in hell\",\n",
    "    \"ZZZ\": \"Sleeping, bored, tired\",\n",
    "    \"WYWH\": \"Wish you were here\",\n",
    "    \"TIME\": \"Tears in my eyes\",\n",
    "    \"BAE\": \"Before anyone else\",\n",
    "    \"FIMH\": \"Forever in my heart\",\n",
    "    \"BSAAW\": \"Big smile and a wink\",\n",
    "    \"BWL\": \"Bursting with laughter\",\n",
    "    \"BFF\": \"Best friends forever\",\n",
    "    \"CSL\": \"Can't stop laughing\"\n",
    "}\n",
    "\n",
    "# Function to replace chat words with their full forms\n",
    "def replace_chat_words(tweet):\n",
    "    words = tweet.split()\n",
    "    for i, word in enumerate(words):\n",
    "        if word.lower() in chat_words:\n",
    "            words[i] = chat_words[word.lower()]\n",
    "    return ' '.join(words)\n",
    "\n",
    "# Apply replace_chat_words function to 'Text' column\n",
    "df['sentiments'] = df['sentiments'].apply(replace_chat_words) \n",
    "\n",
    "df.head()"
   ]
  },
  {
   "cell_type": "markdown",
   "id": "4b228873",
   "metadata": {
    "papermill": {
     "duration": 0.009875,
     "end_time": "2025-01-12T08:17:57.634833",
     "exception": false,
     "start_time": "2025-01-12T08:17:57.624958",
     "status": "completed"
    },
    "tags": []
   },
   "source": []
  },
  {
   "cell_type": "markdown",
   "id": "01ff1316",
   "metadata": {
    "papermill": {
     "duration": 0.009348,
     "end_time": "2025-01-12T08:17:57.654038",
     "exception": false,
     "start_time": "2025-01-12T08:17:57.644690",
     "status": "completed"
    },
    "tags": []
   },
   "source": [
    "# 4.7 Handling Stope Words"
   ]
  },
  {
   "cell_type": "code",
   "execution_count": 12,
   "id": "dbc0fb1b",
   "metadata": {
    "execution": {
     "iopub.execute_input": "2025-01-12T08:17:57.675560Z",
     "iopub.status.busy": "2025-01-12T08:17:57.675029Z",
     "iopub.status.idle": "2025-01-12T08:17:57.683798Z",
     "shell.execute_reply": "2025-01-12T08:17:57.682634Z"
    },
    "papermill": {
     "duration": 0.022803,
     "end_time": "2025-01-12T08:17:57.686545",
     "exception": false,
     "start_time": "2025-01-12T08:17:57.663742",
     "status": "completed"
    },
    "tags": []
   },
   "outputs": [],
   "source": [
    "# Initialize lemmatizer and stop words\n",
    "lemmatizer = WordNetLemmatizer()\n",
    "stop_words = set(stopwords.words('english'))"
   ]
  },
  {
   "cell_type": "code",
   "execution_count": 13,
   "id": "70eee513",
   "metadata": {
    "execution": {
     "iopub.execute_input": "2025-01-12T08:17:57.707970Z",
     "iopub.status.busy": "2025-01-12T08:17:57.707552Z",
     "iopub.status.idle": "2025-01-12T08:17:57.770221Z",
     "shell.execute_reply": "2025-01-12T08:17:57.768846Z"
    },
    "papermill": {
     "duration": 0.076627,
     "end_time": "2025-01-12T08:17:57.773266",
     "exception": false,
     "start_time": "2025-01-12T08:17:57.696639",
     "status": "completed"
    },
    "tags": []
   },
   "outputs": [
    {
     "data": {
      "text/html": [
       "<div>\n",
       "<style scoped>\n",
       "    .dataframe tbody tr th:only-of-type {\n",
       "        vertical-align: middle;\n",
       "    }\n",
       "\n",
       "    .dataframe tbody tr th {\n",
       "        vertical-align: top;\n",
       "    }\n",
       "\n",
       "    .dataframe thead th {\n",
       "        text-align: right;\n",
       "    }\n",
       "</style>\n",
       "<table border=\"1\" class=\"dataframe\">\n",
       "  <thead>\n",
       "    <tr style=\"text-align: right;\">\n",
       "      <th></th>\n",
       "      <th>Index</th>\n",
       "      <th>sentiments</th>\n",
       "      <th>label</th>\n",
       "    </tr>\n",
       "  </thead>\n",
       "  <tbody>\n",
       "    <tr>\n",
       "      <th>0</th>\n",
       "      <td>106</td>\n",
       "      <td>real good moment missssssssss much</td>\n",
       "      <td>0</td>\n",
       "    </tr>\n",
       "    <tr>\n",
       "      <th>1</th>\n",
       "      <td>217</td>\n",
       "      <td>reading manga</td>\n",
       "      <td>0</td>\n",
       "    </tr>\n",
       "    <tr>\n",
       "      <th>2</th>\n",
       "      <td>220</td>\n",
       "      <td>comeagainjen</td>\n",
       "      <td>0</td>\n",
       "    </tr>\n",
       "    <tr>\n",
       "      <th>3</th>\n",
       "      <td>288</td>\n",
       "      <td>lapcat need send em accountant tomorrow oddly ...</td>\n",
       "      <td>0</td>\n",
       "    </tr>\n",
       "    <tr>\n",
       "      <th>4</th>\n",
       "      <td>540</td>\n",
       "      <td>add myspace myspacecomlookthunder</td>\n",
       "      <td>0</td>\n",
       "    </tr>\n",
       "  </tbody>\n",
       "</table>\n",
       "</div>"
      ],
      "text/plain": [
       "   Index                                         sentiments  label\n",
       "0    106                 real good moment missssssssss much      0\n",
       "1    217                                      reading manga      0\n",
       "2    220                                       comeagainjen      0\n",
       "3    288  lapcat need send em accountant tomorrow oddly ...      0\n",
       "4    540                  add myspace myspacecomlookthunder      0"
      ]
     },
     "execution_count": 13,
     "metadata": {},
     "output_type": "execute_result"
    }
   ],
   "source": [
    "# Function to preprocess sentiments\n",
    "def preprocess_sentiments(text):\n",
    "    tokens = text.split()  # Simple tokenization\n",
    "    # Remove stop words\n",
    "    filtered_tokens = [word for word in tokens if word.lower() not in stop_words]\n",
    "    return ' '.join(filtered_tokens)  # Join back into a string\n",
    "df['sentiments'] = df['sentiments'].apply(preprocess_sentiments)\n",
    "df.head()"
   ]
  },
  {
   "cell_type": "markdown",
   "id": "22b81e25",
   "metadata": {
    "papermill": {
     "duration": 0.018331,
     "end_time": "2025-01-12T08:17:57.811393",
     "exception": false,
     "start_time": "2025-01-12T08:17:57.793062",
     "status": "completed"
    },
    "tags": []
   },
   "source": [
    "# 4.8 Handling Emojis"
   ]
  },
  {
   "cell_type": "code",
   "execution_count": 14,
   "id": "d3beb38d",
   "metadata": {
    "execution": {
     "iopub.execute_input": "2025-01-12T08:17:57.835977Z",
     "iopub.status.busy": "2025-01-12T08:17:57.835585Z",
     "iopub.status.idle": "2025-01-12T08:17:58.421972Z",
     "shell.execute_reply": "2025-01-12T08:17:58.420811Z"
    },
    "papermill": {
     "duration": 0.600016,
     "end_time": "2025-01-12T08:17:58.424296",
     "exception": false,
     "start_time": "2025-01-12T08:17:57.824280",
     "status": "completed"
    },
    "tags": []
   },
   "outputs": [
    {
     "data": {
      "text/html": [
       "<div>\n",
       "<style scoped>\n",
       "    .dataframe tbody tr th:only-of-type {\n",
       "        vertical-align: middle;\n",
       "    }\n",
       "\n",
       "    .dataframe tbody tr th {\n",
       "        vertical-align: top;\n",
       "    }\n",
       "\n",
       "    .dataframe thead th {\n",
       "        text-align: right;\n",
       "    }\n",
       "</style>\n",
       "<table border=\"1\" class=\"dataframe\">\n",
       "  <thead>\n",
       "    <tr style=\"text-align: right;\">\n",
       "      <th></th>\n",
       "      <th>Index</th>\n",
       "      <th>sentiments</th>\n",
       "      <th>label</th>\n",
       "    </tr>\n",
       "  </thead>\n",
       "  <tbody>\n",
       "    <tr>\n",
       "      <th>0</th>\n",
       "      <td>106</td>\n",
       "      <td>real good moment missssssssss much</td>\n",
       "      <td>0</td>\n",
       "    </tr>\n",
       "    <tr>\n",
       "      <th>1</th>\n",
       "      <td>217</td>\n",
       "      <td>reading manga</td>\n",
       "      <td>0</td>\n",
       "    </tr>\n",
       "    <tr>\n",
       "      <th>2</th>\n",
       "      <td>220</td>\n",
       "      <td>comeagainjen</td>\n",
       "      <td>0</td>\n",
       "    </tr>\n",
       "    <tr>\n",
       "      <th>3</th>\n",
       "      <td>288</td>\n",
       "      <td>lapcat need send em accountant tomorrow oddly ...</td>\n",
       "      <td>0</td>\n",
       "    </tr>\n",
       "    <tr>\n",
       "      <th>4</th>\n",
       "      <td>540</td>\n",
       "      <td>add myspace myspacecomlookthunder</td>\n",
       "      <td>0</td>\n",
       "    </tr>\n",
       "  </tbody>\n",
       "</table>\n",
       "</div>"
      ],
      "text/plain": [
       "   Index                                         sentiments  label\n",
       "0    106                 real good moment missssssssss much      0\n",
       "1    217                                      reading manga      0\n",
       "2    220                                       comeagainjen      0\n",
       "3    288  lapcat need send em accountant tomorrow oddly ...      0\n",
       "4    540                  add myspace myspacecomlookthunder      0"
      ]
     },
     "execution_count": 14,
     "metadata": {},
     "output_type": "execute_result"
    }
   ],
   "source": [
    "def remove_emojis(tweet):\n",
    "    return emoji.replace_emoji(tweet, replace='')\n",
    "\n",
    "\n",
    "df['sentiments'] = df['sentiments'].apply(remove_emojis)\n",
    "\n",
    "df.head()"
   ]
  },
  {
   "cell_type": "markdown",
   "id": "fd4baf41",
   "metadata": {
    "papermill": {
     "duration": 0.0099,
     "end_time": "2025-01-12T08:17:58.444495",
     "exception": false,
     "start_time": "2025-01-12T08:17:58.434595",
     "status": "completed"
    },
    "tags": []
   },
   "source": [
    "# 4.9 Train Test Split"
   ]
  },
  {
   "cell_type": "code",
   "execution_count": 15,
   "id": "3058cf13",
   "metadata": {
    "execution": {
     "iopub.execute_input": "2025-01-12T08:17:58.466596Z",
     "iopub.status.busy": "2025-01-12T08:17:58.466168Z",
     "iopub.status.idle": "2025-01-12T08:17:58.481031Z",
     "shell.execute_reply": "2025-01-12T08:17:58.479948Z"
    },
    "papermill": {
     "duration": 0.028759,
     "end_time": "2025-01-12T08:17:58.483514",
     "exception": false,
     "start_time": "2025-01-12T08:17:58.454755",
     "status": "completed"
    },
    "tags": []
   },
   "outputs": [],
   "source": [
    "# Split the data into training and testing sets\n",
    "X = df['sentiments']\n",
    "y = df['label']  # Adjust the label column name if needed\n",
    "X_train, X_test, y_train, y_test = train_test_split(X, y, test_size=0.2, random_state=20)\n",
    "\n"
   ]
  },
  {
   "cell_type": "markdown",
   "id": "33aa40c0",
   "metadata": {
    "papermill": {
     "duration": 0.009936,
     "end_time": "2025-01-12T08:17:58.503599",
     "exception": false,
     "start_time": "2025-01-12T08:17:58.493663",
     "status": "completed"
    },
    "tags": []
   },
   "source": [
    "# 4.10 Tokenization & Padding Sequence"
   ]
  },
  {
   "cell_type": "code",
   "execution_count": 16,
   "id": "f48ee05d",
   "metadata": {
    "execution": {
     "iopub.execute_input": "2025-01-12T08:17:58.525659Z",
     "iopub.status.busy": "2025-01-12T08:17:58.525286Z",
     "iopub.status.idle": "2025-01-12T08:17:59.047395Z",
     "shell.execute_reply": "2025-01-12T08:17:59.046461Z"
    },
    "papermill": {
     "duration": 0.536018,
     "end_time": "2025-01-12T08:17:59.049845",
     "exception": false,
     "start_time": "2025-01-12T08:17:58.513827",
     "status": "completed"
    },
    "tags": []
   },
   "outputs": [],
   "source": [
    "\n",
    "# Tokenization\n",
    "tokenizer = Tokenizer()\n",
    "tokenizer.fit_on_texts(X_train)\n",
    "X_train_sequences = tokenizer.texts_to_sequences(X_train)\n",
    "X_test_sequences = tokenizer.texts_to_sequences(X_test)"
   ]
  },
  {
   "cell_type": "code",
   "execution_count": 17,
   "id": "9951b020",
   "metadata": {
    "execution": {
     "iopub.execute_input": "2025-01-12T08:17:59.072877Z",
     "iopub.status.busy": "2025-01-12T08:17:59.072487Z",
     "iopub.status.idle": "2025-01-12T08:17:59.102767Z",
     "shell.execute_reply": "2025-01-12T08:17:59.101793Z"
    },
    "papermill": {
     "duration": 0.044266,
     "end_time": "2025-01-12T08:17:59.105314",
     "exception": false,
     "start_time": "2025-01-12T08:17:59.061048",
     "status": "completed"
    },
    "tags": []
   },
   "outputs": [],
   "source": [
    "max_length = 50  # Choose max_length based on your data\n",
    "X_train_padded = pad_sequences(X_train_sequences, maxlen=max_length, padding='post')\n",
    "X_test_padded = pad_sequences(X_test_sequences, maxlen=max_length, padding='post')"
   ]
  },
  {
   "cell_type": "markdown",
   "id": "8bb3fbfa",
   "metadata": {
    "papermill": {
     "duration": 0.009859,
     "end_time": "2025-01-12T08:17:59.125599",
     "exception": false,
     "start_time": "2025-01-12T08:17:59.115740",
     "status": "completed"
    },
    "tags": []
   },
   "source": [
    "# 5.0 Model Building"
   ]
  },
  {
   "cell_type": "code",
   "execution_count": 18,
   "id": "460931f5",
   "metadata": {
    "execution": {
     "iopub.execute_input": "2025-01-12T08:17:59.203786Z",
     "iopub.status.busy": "2025-01-12T08:17:59.202840Z",
     "iopub.status.idle": "2025-01-12T08:17:59.275694Z",
     "shell.execute_reply": "2025-01-12T08:17:59.274646Z"
    },
    "papermill": {
     "duration": 0.142421,
     "end_time": "2025-01-12T08:17:59.278124",
     "exception": false,
     "start_time": "2025-01-12T08:17:59.135703",
     "status": "completed"
    },
    "tags": []
   },
   "outputs": [],
   "source": [
    "\n",
    " #Build CNN model\n",
    "model_cnn = Sequential()\n",
    "model_cnn.add(Embedding(input_dim=len(tokenizer.word_index) + 1, output_dim=64))\n",
    "model_cnn.add(Conv1D(filters=128, kernel_size=5, activation='relu'))\n",
    "model_cnn.add(GlobalMaxPooling1D())\n",
    "model_cnn.add(Dropout(0.5))\n",
    "model_cnn.add(Dense(1, activation='sigmoid'))  # Binary classification\n",
    "\n",
    "model_cnn.compile(optimizer='adam', loss='binary_crossentropy', metrics=['accuracy'])"
   ]
  },
  {
   "cell_type": "markdown",
   "id": "a70eece6",
   "metadata": {
    "papermill": {
     "duration": 0.009809,
     "end_time": "2025-01-12T08:17:59.297983",
     "exception": false,
     "start_time": "2025-01-12T08:17:59.288174",
     "status": "completed"
    },
    "tags": []
   },
   "source": [
    "# 5.1 Model Compiling "
   ]
  },
  {
   "cell_type": "code",
   "execution_count": 19,
   "id": "c13c2471",
   "metadata": {
    "execution": {
     "iopub.execute_input": "2025-01-12T08:17:59.319866Z",
     "iopub.status.busy": "2025-01-12T08:17:59.319483Z",
     "iopub.status.idle": "2025-01-12T08:17:59.343476Z",
     "shell.execute_reply": "2025-01-12T08:17:59.342300Z"
    },
    "papermill": {
     "duration": 0.037591,
     "end_time": "2025-01-12T08:17:59.345635",
     "exception": false,
     "start_time": "2025-01-12T08:17:59.308044",
     "status": "completed"
    },
    "tags": []
   },
   "outputs": [
    {
     "data": {
      "text/html": [
       "<pre style=\"white-space:pre;overflow-x:auto;line-height:normal;font-family:Menlo,'DejaVu Sans Mono',consolas,'Courier New',monospace\"><span style=\"font-weight: bold\">Model: \"sequential\"</span>\n",
       "</pre>\n"
      ],
      "text/plain": [
       "\u001b[1mModel: \"sequential\"\u001b[0m\n"
      ]
     },
     "metadata": {},
     "output_type": "display_data"
    },
    {
     "data": {
      "text/html": [
       "<pre style=\"white-space:pre;overflow-x:auto;line-height:normal;font-family:Menlo,'DejaVu Sans Mono',consolas,'Courier New',monospace\">┏━━━━━━━━━━━━━━━━━━━━━━━━━━━━━━━━━┳━━━━━━━━━━━━━━━━━━━━━━━━┳━━━━━━━━━━━━━━━┓\n",
       "┃<span style=\"font-weight: bold\"> Layer (type)                    </span>┃<span style=\"font-weight: bold\"> Output Shape           </span>┃<span style=\"font-weight: bold\">       Param # </span>┃\n",
       "┡━━━━━━━━━━━━━━━━━━━━━━━━━━━━━━━━━╇━━━━━━━━━━━━━━━━━━━━━━━━╇━━━━━━━━━━━━━━━┩\n",
       "│ embedding (<span style=\"color: #0087ff; text-decoration-color: #0087ff\">Embedding</span>)           │ ?                      │   <span style=\"color: #00af00; text-decoration-color: #00af00\">0</span> (unbuilt) │\n",
       "├─────────────────────────────────┼────────────────────────┼───────────────┤\n",
       "│ conv1d (<span style=\"color: #0087ff; text-decoration-color: #0087ff\">Conv1D</span>)                 │ ?                      │   <span style=\"color: #00af00; text-decoration-color: #00af00\">0</span> (unbuilt) │\n",
       "├─────────────────────────────────┼────────────────────────┼───────────────┤\n",
       "│ global_max_pooling1d            │ ?                      │   <span style=\"color: #00af00; text-decoration-color: #00af00\">0</span> (unbuilt) │\n",
       "│ (<span style=\"color: #0087ff; text-decoration-color: #0087ff\">GlobalMaxPooling1D</span>)            │                        │               │\n",
       "├─────────────────────────────────┼────────────────────────┼───────────────┤\n",
       "│ dropout (<span style=\"color: #0087ff; text-decoration-color: #0087ff\">Dropout</span>)               │ ?                      │   <span style=\"color: #00af00; text-decoration-color: #00af00\">0</span> (unbuilt) │\n",
       "├─────────────────────────────────┼────────────────────────┼───────────────┤\n",
       "│ dense (<span style=\"color: #0087ff; text-decoration-color: #0087ff\">Dense</span>)                   │ ?                      │   <span style=\"color: #00af00; text-decoration-color: #00af00\">0</span> (unbuilt) │\n",
       "└─────────────────────────────────┴────────────────────────┴───────────────┘\n",
       "</pre>\n"
      ],
      "text/plain": [
       "┏━━━━━━━━━━━━━━━━━━━━━━━━━━━━━━━━━┳━━━━━━━━━━━━━━━━━━━━━━━━┳━━━━━━━━━━━━━━━┓\n",
       "┃\u001b[1m \u001b[0m\u001b[1mLayer (type)                   \u001b[0m\u001b[1m \u001b[0m┃\u001b[1m \u001b[0m\u001b[1mOutput Shape          \u001b[0m\u001b[1m \u001b[0m┃\u001b[1m \u001b[0m\u001b[1m      Param #\u001b[0m\u001b[1m \u001b[0m┃\n",
       "┡━━━━━━━━━━━━━━━━━━━━━━━━━━━━━━━━━╇━━━━━━━━━━━━━━━━━━━━━━━━╇━━━━━━━━━━━━━━━┩\n",
       "│ embedding (\u001b[38;5;33mEmbedding\u001b[0m)           │ ?                      │   \u001b[38;5;34m0\u001b[0m (unbuilt) │\n",
       "├─────────────────────────────────┼────────────────────────┼───────────────┤\n",
       "│ conv1d (\u001b[38;5;33mConv1D\u001b[0m)                 │ ?                      │   \u001b[38;5;34m0\u001b[0m (unbuilt) │\n",
       "├─────────────────────────────────┼────────────────────────┼───────────────┤\n",
       "│ global_max_pooling1d            │ ?                      │   \u001b[38;5;34m0\u001b[0m (unbuilt) │\n",
       "│ (\u001b[38;5;33mGlobalMaxPooling1D\u001b[0m)            │                        │               │\n",
       "├─────────────────────────────────┼────────────────────────┼───────────────┤\n",
       "│ dropout (\u001b[38;5;33mDropout\u001b[0m)               │ ?                      │   \u001b[38;5;34m0\u001b[0m (unbuilt) │\n",
       "├─────────────────────────────────┼────────────────────────┼───────────────┤\n",
       "│ dense (\u001b[38;5;33mDense\u001b[0m)                   │ ?                      │   \u001b[38;5;34m0\u001b[0m (unbuilt) │\n",
       "└─────────────────────────────────┴────────────────────────┴───────────────┘\n"
      ]
     },
     "metadata": {},
     "output_type": "display_data"
    },
    {
     "data": {
      "text/html": [
       "<pre style=\"white-space:pre;overflow-x:auto;line-height:normal;font-family:Menlo,'DejaVu Sans Mono',consolas,'Courier New',monospace\"><span style=\"font-weight: bold\"> Total params: </span><span style=\"color: #00af00; text-decoration-color: #00af00\">0</span> (0.00 B)\n",
       "</pre>\n"
      ],
      "text/plain": [
       "\u001b[1m Total params: \u001b[0m\u001b[38;5;34m0\u001b[0m (0.00 B)\n"
      ]
     },
     "metadata": {},
     "output_type": "display_data"
    },
    {
     "data": {
      "text/html": [
       "<pre style=\"white-space:pre;overflow-x:auto;line-height:normal;font-family:Menlo,'DejaVu Sans Mono',consolas,'Courier New',monospace\"><span style=\"font-weight: bold\"> Trainable params: </span><span style=\"color: #00af00; text-decoration-color: #00af00\">0</span> (0.00 B)\n",
       "</pre>\n"
      ],
      "text/plain": [
       "\u001b[1m Trainable params: \u001b[0m\u001b[38;5;34m0\u001b[0m (0.00 B)\n"
      ]
     },
     "metadata": {},
     "output_type": "display_data"
    },
    {
     "data": {
      "text/html": [
       "<pre style=\"white-space:pre;overflow-x:auto;line-height:normal;font-family:Menlo,'DejaVu Sans Mono',consolas,'Courier New',monospace\"><span style=\"font-weight: bold\"> Non-trainable params: </span><span style=\"color: #00af00; text-decoration-color: #00af00\">0</span> (0.00 B)\n",
       "</pre>\n"
      ],
      "text/plain": [
       "\u001b[1m Non-trainable params: \u001b[0m\u001b[38;5;34m0\u001b[0m (0.00 B)\n"
      ]
     },
     "metadata": {},
     "output_type": "display_data"
    }
   ],
   "source": [
    "# Compile the model\n",
    "model_cnn.compile(loss='binary_crossentropy', optimizer='adam', metrics=['accuracy'])\n",
    "model_cnn.summary()"
   ]
  },
  {
   "cell_type": "markdown",
   "id": "b11386d8",
   "metadata": {
    "papermill": {
     "duration": 0.010731,
     "end_time": "2025-01-12T08:17:59.368182",
     "exception": false,
     "start_time": "2025-01-12T08:17:59.357451",
     "status": "completed"
    },
    "tags": []
   },
   "source": [
    "# 5.2 Model Training "
   ]
  },
  {
   "cell_type": "code",
   "execution_count": 20,
   "id": "af4fedca",
   "metadata": {
    "execution": {
     "iopub.execute_input": "2025-01-12T08:17:59.391702Z",
     "iopub.status.busy": "2025-01-12T08:17:59.391331Z",
     "iopub.status.idle": "2025-01-12T08:18:17.564966Z",
     "shell.execute_reply": "2025-01-12T08:18:17.563704Z"
    },
    "papermill": {
     "duration": 18.18838,
     "end_time": "2025-01-12T08:18:17.567517",
     "exception": false,
     "start_time": "2025-01-12T08:17:59.379137",
     "status": "completed"
    },
    "tags": []
   },
   "outputs": [
    {
     "name": "stdout",
     "output_type": "stream",
     "text": [
      "Epoch 1/5\n",
      "\u001b[1m207/207\u001b[0m \u001b[32m━━━━━━━━━━━━━━━━━━━━\u001b[0m\u001b[37m\u001b[0m \u001b[1m5s\u001b[0m 15ms/step - accuracy: 0.8455 - loss: 0.3707 - val_accuracy: 0.9879 - val_loss: 0.0517\n",
      "Epoch 2/5\n",
      "\u001b[1m207/207\u001b[0m \u001b[32m━━━━━━━━━━━━━━━━━━━━\u001b[0m\u001b[37m\u001b[0m \u001b[1m3s\u001b[0m 13ms/step - accuracy: 0.9898 - loss: 0.0361 - val_accuracy: 0.9915 - val_loss: 0.0382\n",
      "Epoch 3/5\n",
      "\u001b[1m207/207\u001b[0m \u001b[32m━━━━━━━━━━━━━━━━━━━━\u001b[0m\u001b[37m\u001b[0m \u001b[1m3s\u001b[0m 13ms/step - accuracy: 0.9973 - loss: 0.0108 - val_accuracy: 0.9927 - val_loss: 0.0371\n",
      "Epoch 4/5\n",
      "\u001b[1m207/207\u001b[0m \u001b[32m━━━━━━━━━━━━━━━━━━━━\u001b[0m\u001b[37m\u001b[0m \u001b[1m5s\u001b[0m 14ms/step - accuracy: 0.9998 - loss: 0.0029 - val_accuracy: 0.9921 - val_loss: 0.0423\n",
      "Epoch 5/5\n",
      "\u001b[1m207/207\u001b[0m \u001b[32m━━━━━━━━━━━━━━━━━━━━\u001b[0m\u001b[37m\u001b[0m \u001b[1m3s\u001b[0m 13ms/step - accuracy: 1.0000 - loss: 9.3194e-04 - val_accuracy: 0.9921 - val_loss: 0.0493\n"
     ]
    }
   ],
   "source": [
    "\n",
    "\n",
    "# Train the model\n",
    "history_cnn = model_cnn.fit(X_train_padded, y_train, epochs=5, validation_split=0.2, batch_size=32)"
   ]
  },
  {
   "cell_type": "markdown",
   "id": "fe19ad0b",
   "metadata": {
    "papermill": {
     "duration": 0.023833,
     "end_time": "2025-01-12T08:18:17.616182",
     "exception": false,
     "start_time": "2025-01-12T08:18:17.592349",
     "status": "completed"
    },
    "tags": []
   },
   "source": [
    "# 6.0 Model Prediction"
   ]
  },
  {
   "cell_type": "code",
   "execution_count": 21,
   "id": "542eab1e",
   "metadata": {
    "execution": {
     "iopub.execute_input": "2025-01-12T08:18:17.667124Z",
     "iopub.status.busy": "2025-01-12T08:18:17.666758Z",
     "iopub.status.idle": "2025-01-12T08:18:18.070597Z",
     "shell.execute_reply": "2025-01-12T08:18:18.069295Z"
    },
    "papermill": {
     "duration": 0.430858,
     "end_time": "2025-01-12T08:18:18.072928",
     "exception": false,
     "start_time": "2025-01-12T08:18:17.642070",
     "status": "completed"
    },
    "tags": []
   },
   "outputs": [
    {
     "name": "stdout",
     "output_type": "stream",
     "text": [
      "\u001b[1m65/65\u001b[0m \u001b[32m━━━━━━━━━━━━━━━━━━━━\u001b[0m\u001b[37m\u001b[0m \u001b[1m0s\u001b[0m 4ms/step\n"
     ]
    }
   ],
   "source": [
    "# Predictions\n",
    "y_pred = model_cnn.predict(X_test_padded)\n",
    "y_pred_classes = (y_pred > 0.5).astype(int)\n",
    "\n"
   ]
  },
  {
   "cell_type": "code",
   "execution_count": 22,
   "id": "4992c81a",
   "metadata": {
    "execution": {
     "iopub.execute_input": "2025-01-12T08:18:18.123876Z",
     "iopub.status.busy": "2025-01-12T08:18:18.123510Z",
     "iopub.status.idle": "2025-01-12T08:18:18.142155Z",
     "shell.execute_reply": "2025-01-12T08:18:18.140685Z"
    },
    "papermill": {
     "duration": 0.046616,
     "end_time": "2025-01-12T08:18:18.144531",
     "exception": false,
     "start_time": "2025-01-12T08:18:18.097915",
     "status": "completed"
    },
    "tags": []
   },
   "outputs": [
    {
     "name": "stdout",
     "output_type": "stream",
     "text": [
      "Classification Report:\n",
      "              precision    recall  f1-score   support\n",
      "\n",
      "           0       0.99      1.00      0.99      1611\n",
      "           1       0.99      0.96      0.98       452\n",
      "\n",
      "    accuracy                           0.99      2063\n",
      "   macro avg       0.99      0.98      0.99      2063\n",
      "weighted avg       0.99      0.99      0.99      2063\n",
      "\n"
     ]
    }
   ],
   "source": [
    "# Evaluation metrics\n",
    "print(\"Classification Report:\")\n",
    "print(classification_report(y_test, y_pred_classes))"
   ]
  },
  {
   "cell_type": "code",
   "execution_count": 23,
   "id": "c053ae7a",
   "metadata": {
    "execution": {
     "iopub.execute_input": "2025-01-12T08:18:18.193969Z",
     "iopub.status.busy": "2025-01-12T08:18:18.193539Z",
     "iopub.status.idle": "2025-01-12T08:18:18.202320Z",
     "shell.execute_reply": "2025-01-12T08:18:18.201058Z"
    },
    "papermill": {
     "duration": 0.036052,
     "end_time": "2025-01-12T08:18:18.204591",
     "exception": false,
     "start_time": "2025-01-12T08:18:18.168539",
     "status": "completed"
    },
    "tags": []
   },
   "outputs": [
    {
     "name": "stdout",
     "output_type": "stream",
     "text": [
      "Confusion Matrix:\n",
      "[[1608    3]\n",
      " [  17  435]]\n"
     ]
    }
   ],
   "source": [
    "# Confusion Matrix\n",
    "confusion_mtx = confusion_matrix(y_test, y_pred_classes)\n",
    "print(\"Confusion Matrix:\")\n",
    "print(confusion_mtx)"
   ]
  },
  {
   "cell_type": "markdown",
   "id": "06e68cc9",
   "metadata": {
    "papermill": {
     "duration": 0.023455,
     "end_time": "2025-01-12T08:18:18.252121",
     "exception": false,
     "start_time": "2025-01-12T08:18:18.228666",
     "status": "completed"
    },
    "tags": []
   },
   "source": [
    "# 6.1 Plotting betwen Training & validation Accuracy Values"
   ]
  },
  {
   "cell_type": "code",
   "execution_count": 24,
   "id": "49c0ce90",
   "metadata": {
    "execution": {
     "iopub.execute_input": "2025-01-12T08:18:18.301796Z",
     "iopub.status.busy": "2025-01-12T08:18:18.301391Z",
     "iopub.status.idle": "2025-01-12T08:18:18.624678Z",
     "shell.execute_reply": "2025-01-12T08:18:18.623527Z"
    },
    "papermill": {
     "duration": 0.351003,
     "end_time": "2025-01-12T08:18:18.627043",
     "exception": false,
     "start_time": "2025-01-12T08:18:18.276040",
     "status": "completed"
    },
    "tags": []
   },
   "outputs": [
    {
     "data": {
      "image/png": "[encoded data removed]",
      "text/plain": [
       "<Figure size 640x480 with 1 Axes>"
      ]
     },
     "metadata": {},
     "output_type": "display_data"
    }
   ],
   "source": [
    "# Plotting training & validation accuracy values\n",
    "plt.title('Training Accuracy vs Validation Accuracy')\n",
    "plt.plot(history_cnn.history['accuracy'], color='blue',label='Train')\n",
    "plt.plot(history_cnn.history['val_accuracy'], color='red',label='Validation')\n",
    "\n",
    "plt.legend(['Train', 'Test'], loc='upper left')\n",
    "plt.show()\n",
    "\n"
   ]
  },
  {
   "cell_type": "markdown",
   "id": "ac9b32cc",
   "metadata": {
    "papermill": {
     "duration": 0.024712,
     "end_time": "2025-01-12T08:18:18.678676",
     "exception": false,
     "start_time": "2025-01-12T08:18:18.653964",
     "status": "completed"
    },
    "tags": []
   },
   "source": [
    "#  6.2 Plotting the graph between training loss & validation loss "
   ]
  },
  {
   "cell_type": "code",
   "execution_count": 25,
   "id": "4c784a6b",
   "metadata": {
    "execution": {
     "iopub.execute_input": "2025-01-12T08:18:18.729822Z",
     "iopub.status.busy": "2025-01-12T08:18:18.729418Z",
     "iopub.status.idle": "2025-01-12T08:18:19.023972Z",
     "shell.execute_reply": "2025-01-12T08:18:19.022739Z"
    },
    "papermill": {
     "duration": 0.323609,
     "end_time": "2025-01-12T08:18:19.026907",
     "exception": false,
     "start_time": "2025-01-12T08:18:18.703298",
     "status": "completed"
    },
    "tags": []
   },
   "outputs": [
    {
     "data": {
      "image/png": "[encoded data removed]",
      "text/plain": [
       "<Figure size 640x480 with 1 Axes>"
      ]
     },
     "metadata": {},
     "output_type": "display_data"
    }
   ],
   "source": [
    "# Plotting training & validation loss values\n",
    "plt.plot(history_cnn.history['loss'])\n",
    "plt.plot(history_cnn.history['val_loss'])\n",
    "plt.title('Model loss')\n",
    "plt.ylabel('Loss')\n",
    "plt.xlabel('Epoch')\n",
    "plt.legend(['Train', 'Test'], loc='upper left')\n",
    "plt.show()"
   ]
  },
  {
   "cell_type": "markdown",
   "id": "5c724dae",
   "metadata": {
    "papermill": {
     "duration": 0.025003,
     "end_time": "2025-01-12T08:18:19.077515",
     "exception": false,
     "start_time": "2025-01-12T08:18:19.052512",
     "status": "completed"
    },
    "tags": []
   },
   "source": [
    "# 7.0 Visualization "
   ]
  },
  {
   "cell_type": "code",
   "execution_count": 26,
   "id": "25554f9c",
   "metadata": {
    "execution": {
     "iopub.execute_input": "2025-01-12T08:18:19.130376Z",
     "iopub.status.busy": "2025-01-12T08:18:19.129971Z",
     "iopub.status.idle": "2025-01-12T08:18:19.465007Z",
     "shell.execute_reply": "2025-01-12T08:18:19.463463Z"
    },
    "papermill": {
     "duration": 0.36416,
     "end_time": "2025-01-12T08:18:19.467598",
     "exception": false,
     "start_time": "2025-01-12T08:18:19.103438",
     "status": "completed"
    },
    "tags": []
   },
   "outputs": [
    {
     "data": {
      "image/png": "[encoded data removed]",
      "text/plain": [
       "<Figure size 1200x500 with 1 Axes>"
      ]
     },
     "metadata": {},
     "output_type": "display_data"
    }
   ],
   "source": [
    "# Step 7: Visualization with Bar Charts\n",
    "\n",
    "# Setting the number of epochs\n",
    "epochs = range(1, len(history_cnn.history['accuracy']) + 1)\n",
    "\n",
    "# Plotting training & validation accuracy values\n",
    "plt.figure(figsize=(12, 5))\n",
    "\n",
    "# Bar plot for accuracy\n",
    "plt.subplot(1, 2, 1)\n",
    "plt.bar(epochs, history_cnn.history['accuracy'], width=0.4, label='Train Accuracy', align='center')\n",
    "plt.bar(epochs, history_cnn.history['val_accuracy'], width=0.4, label='Validation Accuracy', align='edge')\n",
    "plt.title('Model Accuracy')\n",
    "plt.ylabel('Accuracy')\n",
    "plt.xlabel('Epoch')\n",
    "plt.xticks(epochs)\n",
    "plt.legend()\n",
    "plt.tight_layout()\n",
    "plt.show()\n"
   ]
  },
  {
   "cell_type": "code",
   "execution_count": 27,
   "id": "bc3280ea",
   "metadata": {
    "execution": {
     "iopub.execute_input": "2025-01-12T08:18:19.524801Z",
     "iopub.status.busy": "2025-01-12T08:18:19.524406Z",
     "iopub.status.idle": "2025-01-12T08:18:19.878693Z",
     "shell.execute_reply": "2025-01-12T08:18:19.877480Z"
    },
    "papermill": {
     "duration": 0.383736,
     "end_time": "2025-01-12T08:18:19.880926",
     "exception": false,
     "start_time": "2025-01-12T08:18:19.497190",
     "status": "completed"
    },
    "tags": []
   },
   "outputs": [
    {
     "data": {
      "image/png": "[encoded data removed]",
      "text/plain": [
       "<Figure size 640x480 with 1 Axes>"
      ]
     },
     "metadata": {},
     "output_type": "display_data"
    }
   ],
   "source": [
    "# Bar plot for loss\n",
    "plt.subplot(1, 2, 2)\n",
    "plt.bar(epochs, history_cnn.history['loss'], width=0.4, label='Train Loss', align='center')\n",
    "plt.bar(epochs, history_cnn.history['val_loss'], width=0.4, label='Validation Loss', align='edge')\n",
    "plt.title('Model Loss')\n",
    "plt.ylabel('Loss')\n",
    "plt.xlabel('Epoch')\n",
    "plt.xticks(epochs)\n",
    "plt.legend()\n",
    "plt.tight_layout()\n",
    "plt.show()"
   ]
  },
  {
   "cell_type": "markdown",
   "id": "97be777e",
   "metadata": {
    "papermill": {
     "duration": 0.02543,
     "end_time": "2025-01-12T08:18:19.932420",
     "exception": false,
     "start_time": "2025-01-12T08:18:19.906990",
     "status": "completed"
    },
    "tags": []
   },
   "source": [
    "# --------- The End---------"
   ]
  }
 ],
 "metadata": {
  "kaggle": {
   "accelerator": "none",
   "dataSources": [
    {
     "datasetId": 6003092,
     "sourceId": 9795766,
     "sourceType": "datasetVersion"
    }
   ],
   "dockerImageVersionId": 30761,
   "isGpuEnabled": false,
   "isInternetEnabled": true,
   "language": "python",
   "sourceType": "notebook"
  },
  "kernelspec": {
   "display_name": "Python 3",
   "language": "python",
   "name": "python3"
  },
  "language_info": {
   "codemirror_mode": {
    "name": "ipython",
    "version": 3
   },
   "file_extension": ".py",
   "mimetype": "text/x-python",
   "name": "python",
   "nbconvert_exporter": "python",
   "pygments_lexer": "ipython3",
   "version": "3.10.14"
  },
  "papermill": {
   "default_parameters": {},
   "duration": 47.729631,
   "end_time": "2025-01-12T08:18:21.784088",
   "environment_variables": {},
   "exception": null,
   "input_path": "__notebook__.ipynb",
   "output_path": "__notebook__.ipynb",
   "parameters": {},
   "start_time": "2025-01-12T08:17:34.054457",
   "version": "2.6.0"
  }
 },
 "nbformat": 4,
 "nbformat_minor": 5
}
